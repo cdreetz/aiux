{
 "cells": [
  {
   "cell_type": "code",
   "execution_count": 9,
   "metadata": {},
   "outputs": [],
   "source": [
    "import os\n",
    "import mlflow\n",
    "import pandas as pd\n",
    "import chromadb\n",
    "from chromadb.utils import embedding_functions\n",
    "from dotenv import load_dotenv\n",
    "from openai import OpenAI\n",
    "\n",
    "load_dotenv()\n",
    "OPENAI_API_KEY = os.environ.get(\"OPENAI_API_KEY\")\n",
    "CHROMA_HOST = os.environ.get(\"CHROMA_HOST\")\n",
    "\n",
    "openai_client = OpenAI(\n",
    "    api_key=OPENAI_API_KEY\n",
    ")\n",
    "\n",
    "openai_ef = embedding_functions.OpenAIEmbeddingFunction(\n",
    "    api_key=OPENAI_API_KEY,\n",
    "    model_name=\"text-embedding-ada-002\"\n",
    ")\n",
    "chroma_client = chromadb.HttpClient(\n",
    "    host=CHROMA_HOST, \n",
    "    port=8000\n",
    ")\n",
    "\n",
    "collection = chroma_client.get_collection(\n",
    "    name='content_collection', \n",
    "    embedding_function=openai_ef\n",
    ")"
   ]
  },
  {
   "cell_type": "code",
   "execution_count": 10,
   "metadata": {},
   "outputs": [],
   "source": [
    "def query(query_texts):\n",
    "\n",
    "    try:\n",
    "        # Ensure that query_texts is a list\n",
    "        if not isinstance(query_texts, list):\n",
    "            query_texts = [query_texts]\n",
    "\n",
    "\n",
    "        results = collection.query(query_texts=query_texts, n_results=2)\n",
    "\n",
    "        documents = []\n",
    "        for i, document_list in enumerate(results['documents']):\n",
    "            for j, document in enumerate(document_list):\n",
    "                if results['distances'][i][j] < 0.5:\n",
    "                    metadata = results['metadatas'][i][j]\n",
    "                    documents.append({'document': document, 'metadatas': metadata})\n",
    "\n",
    "        if not documents:\n",
    "            print(\"No relevant documents\")\n",
    "            return \"No relevant documents\"\n",
    "\n",
    "        return documents\n",
    "\n",
    "    except Exception as e:\n",
    "        print(f\"Error during query: {e}\")\n",
    "        return []"
   ]
  },
  {
   "cell_type": "code",
   "execution_count": 11,
   "metadata": {},
   "outputs": [],
   "source": [
    "def gpt_model(input_df):\n",
    "    responses = []\n",
    "    for index, row in input_df.iterrows():\n",
    "        questions = row[\"questions\"]\n",
    "        context = query(questions) \n",
    "        system_prompt = \"\"\"\n",
    "        You are a helpful assistant who can answer question with information from the provided context, which comes from our platform content. \n",
    "        Make sure to only use information from the provided documents. \n",
    "        If the context does not have the information to answer the question reply `I'm sorry but I'm not sure about that.`\n",
    "        Do not respond with anything outside of the scope of financial wellness or financial literacy. \n",
    "        \"\"\"\n",
    "\n",
    "        completion = openai_client.chat.completions.create(\n",
    "            model=\"gpt-3.5-turbo-1106\",\n",
    "            messages=[\n",
    "                {\"role\": \"system\", \"content\": f\"{system_prompt}\"},\n",
    "                {\"role\": \"user\", \"content\": f\"The user question:{questions} \\n The context:{context}\"}\n",
    "            ]\n",
    "        )\n",
    "        response = completion.choices[0].message.content\n",
    "        responses.append({\"system_prompt\": system_prompt, \"response\": response, \"context\": context})\n",
    "\n",
    "    return responses\n"
   ]
  },
  {
   "cell_type": "code",
   "execution_count": 12,
   "metadata": {},
   "outputs": [],
   "source": [
    "eval_df = pd.DataFrame(\n",
    "    {\n",
    "        \"questions\": [\n",
    "            \"What exactly is credit score?\",\n",
    "            \"Give me a couple tips on how to budget.\",\n",
    "            \"Who won the Super Bowl?\",\n",
    "            \"What are the pros and cons of getting a credit card?\"\n",
    "        ]\n",
    "    }\n",
    ")"
   ]
  },
  {
   "cell_type": "code",
   "execution_count": 13,
   "metadata": {},
   "outputs": [
    {
     "name": "stderr",
     "output_type": "stream",
     "text": [
      "2023/12/16 18:19:54 INFO mlflow.models.evaluation.base: Evaluating the model with the default evaluator.\n",
      "2023/12/16 18:19:54 INFO mlflow.models.evaluation.default_evaluator: Computing model predictions.\n",
      "2023/12/16 18:20:06 INFO mlflow.models.evaluation.default_evaluator: Testing metrics on first row...\n",
      "2023/12/16 18:20:06 WARNING mlflow.metrics.metric_definitions: Failed to load 'toxicity' metric (error: ModuleNotFoundError(\"No module named 'evaluate'\")), skipping metric logging.\n",
      "2023/12/16 18:20:06 WARNING mlflow.metrics.metric_definitions: Failed to load flesch kincaid metric, skipping metric logging.\n",
      "2023/12/16 18:20:06 WARNING mlflow.metrics.metric_definitions: Failed to load automated readability index metric, skipping metric logging.\n",
      "2023/12/16 18:20:06 INFO mlflow.models.evaluation.default_evaluator: Evaluating builtin metrics: token_count\n",
      "2023/12/16 18:20:06 INFO mlflow.models.evaluation.default_evaluator: Evaluating builtin metrics: toxicity\n",
      "2023/12/16 18:20:06 WARNING mlflow.metrics.metric_definitions: Failed to load 'toxicity' metric (error: ModuleNotFoundError(\"No module named 'evaluate'\")), skipping metric logging.\n",
      "2023/12/16 18:20:06 INFO mlflow.models.evaluation.default_evaluator: Evaluating builtin metrics: flesch_kincaid_grade_level\n",
      "2023/12/16 18:20:06 WARNING mlflow.metrics.metric_definitions: Failed to load flesch kincaid metric, skipping metric logging.\n",
      "2023/12/16 18:20:06 INFO mlflow.models.evaluation.default_evaluator: Evaluating builtin metrics: ari_grade_level\n",
      "2023/12/16 18:20:06 WARNING mlflow.metrics.metric_definitions: Failed to load automated readability index metric, skipping metric logging.\n",
      "2023/12/16 18:20:06 INFO mlflow.models.evaluation.default_evaluator: Evaluating builtin metrics: exact_match\n"
     ]
    }
   ],
   "source": [
    "results = mlflow.evaluate(\n",
    "    gpt_model,\n",
    "    eval_df,  \n",
    "    model_type=\"question-answering\",\n",
    "    predictions=\"response\",\n",
    "    evaluator_config={\n",
    "        \"col_mapping\": {\n",
    "            \"system_prompt\": \"system_prompt\",\n",
    "            \"inputs\": \"questions\",  \n",
    "            \"context\": \"source_documents\",  \n",
    "        }\n",
    "    },\n",
    ")\n"
   ]
  },
  {
   "cell_type": "code",
   "execution_count": 14,
   "metadata": {},
   "outputs": [
    {
     "name": "stderr",
     "output_type": "stream",
     "text": [
      "Downloading artifacts: 100%|██████████| 1/1 [00:00<00:00, 598.50it/s]\n"
     ]
    },
    {
     "data": {
      "text/html": [
       "<div>\n",
       "<style scoped>\n",
       "    .dataframe tbody tr th:only-of-type {\n",
       "        vertical-align: middle;\n",
       "    }\n",
       "\n",
       "    .dataframe tbody tr th {\n",
       "        vertical-align: top;\n",
       "    }\n",
       "\n",
       "    .dataframe thead th {\n",
       "        text-align: right;\n",
       "    }\n",
       "</style>\n",
       "<table border=\"1\" class=\"dataframe\">\n",
       "  <thead>\n",
       "    <tr style=\"text-align: right;\">\n",
       "      <th></th>\n",
       "      <th>questions</th>\n",
       "      <th>outputs</th>\n",
       "      <th>token_count</th>\n",
       "    </tr>\n",
       "  </thead>\n",
       "  <tbody>\n",
       "    <tr>\n",
       "      <th>0</th>\n",
       "      <td>What exactly is credit score?</td>\n",
       "      <td>A credit score is essentially a measure of the...</td>\n",
       "      <td>126</td>\n",
       "    </tr>\n",
       "    <tr>\n",
       "      <th>1</th>\n",
       "      <td>Give me a couple tips on how to budget.</td>\n",
       "      <td>Based on the provided information, here are a ...</td>\n",
       "      <td>95</td>\n",
       "    </tr>\n",
       "    <tr>\n",
       "      <th>2</th>\n",
       "      <td>Who won the Super Bowl?</td>\n",
       "      <td>I'm sorry but I'm not sure about that.</td>\n",
       "      <td>11</td>\n",
       "    </tr>\n",
       "    <tr>\n",
       "      <th>3</th>\n",
       "      <td>What are the pros and cons of getting a credit...</td>\n",
       "      <td>The pros of getting a credit card include conv...</td>\n",
       "      <td>230</td>\n",
       "    </tr>\n",
       "  </tbody>\n",
       "</table>\n",
       "</div>"
      ],
      "text/plain": [
       "                                           questions  \\\n",
       "0                      What exactly is credit score?   \n",
       "1            Give me a couple tips on how to budget.   \n",
       "2                            Who won the Super Bowl?   \n",
       "3  What are the pros and cons of getting a credit...   \n",
       "\n",
       "                                             outputs  token_count  \n",
       "0  A credit score is essentially a measure of the...          126  \n",
       "1  Based on the provided information, here are a ...           95  \n",
       "2             I'm sorry but I'm not sure about that.           11  \n",
       "3  The pros of getting a credit card include conv...          230  "
      ]
     },
     "execution_count": 14,
     "metadata": {},
     "output_type": "execute_result"
    }
   ],
   "source": [
    "results.tables[\"eval_results_table\"]\n"
   ]
  },
  {
   "cell_type": "code",
   "execution_count": null,
   "metadata": {},
   "outputs": [],
   "source": [
    "import mlflow\n",
    "\n",
    "print(mlflow.__version__)"
   ]
  }
 ],
 "metadata": {
  "kernelspec": {
   "display_name": "env",
   "language": "python",
   "name": "python3"
  },
  "language_info": {
   "codemirror_mode": {
    "name": "ipython",
    "version": 3
   },
   "file_extension": ".py",
   "mimetype": "text/x-python",
   "name": "python",
   "nbconvert_exporter": "python",
   "pygments_lexer": "ipython3",
   "version": "3.10.10"
  }
 },
 "nbformat": 4,
 "nbformat_minor": 2
}
